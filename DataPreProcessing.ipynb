{
  "nbformat": 4,
  "nbformat_minor": 0,
  "metadata": {
    "colab": {
      "name": "DataPreProcessing.ipynb",
      "provenance": [],
      "collapsed_sections": [],
      "authorship_tag": "ABX9TyPVr8AQMBb5B2u5zjJZLU3P",
      "include_colab_link": true
    },
    "kernelspec": {
      "name": "python3",
      "display_name": "Python 3"
    },
    "language_info": {
      "name": "python"
    }
  },
  "cells": [
    {
      "cell_type": "markdown",
      "metadata": {
        "id": "view-in-github",
        "colab_type": "text"
      },
      "source": [
        "<a href=\"https://colab.research.google.com/github/SandumiJay/FoodPreference/blob/main/DataPreProcessing.ipynb\" target=\"_parent\"><img src=\"https://colab.research.google.com/assets/colab-badge.svg\" alt=\"Open In Colab\"/></a>"
      ]
    },
    {
      "cell_type": "code",
      "execution_count": 1,
      "metadata": {
        "id": "4EZLm6gjp4FA"
      },
      "outputs": [],
      "source": [
        "import numpy as np\n",
        "import matplotlib.pyplot as plt\n",
        "import pandas as pd"
      ]
    },
    {
      "cell_type": "code",
      "source": [
        "dataset = pd.read_csv('Food_Preference.csv')\n",
        "X = dataset.iloc[:, 2:-1].values\n",
        "Y = dataset.iloc[:, -1].values"
      ],
      "metadata": {
        "id": "2RuNjzcIrgjT"
      },
      "execution_count": 26,
      "outputs": []
    },
    {
      "cell_type": "code",
      "source": [
        "print(dataset)"
      ],
      "metadata": {
        "colab": {
          "base_uri": "https://localhost:8080/"
        },
        "id": "Gf0I3ohDr3YW",
        "outputId": "b76a404d-ca7f-480d-e437-d7880a385a6a"
      },
      "execution_count": 27,
      "outputs": [
        {
          "output_type": "stream",
          "name": "stdout",
          "text": [
            "                        Timestamp Participant_ID  Gender Nationality  Age  \\\n",
            "0     2019/05/07 2:59:13 PM GMT+8         FPS001    Male      Indian   24   \n",
            "1     2019/05/07 2:59:45 PM GMT+8         FPS002  Female      Indian   22   \n",
            "2     2019/05/07 3:00:05 PM GMT+8         FPS003    Male      Indian   31   \n",
            "3     2019/05/07 3:00:11 PM GMT+8         FPS004  Female      Indian   25   \n",
            "4     2019/05/07 3:02:50 PM GMT+8         FPS005    Male      Indian   27   \n",
            "..                            ...            ...     ...         ...  ...   \n",
            "283   2019/05/10 9:24:00 AM GMT+8         FPS284    Male      Indian   27   \n",
            "284   2019/05/10 9:32:54 AM GMT+8         FPS285    Male      Indian   24   \n",
            "285  2019/05/10 12:09:17 PM GMT+8         FPS286    Male      Indian   25   \n",
            "286  2019/05/10 12:52:17 PM GMT+8         FPS287    Male      Indian   27   \n",
            "287  2019/05/10 12:55:42 PM GMT+8         FPS288    Male      Indian   27   \n",
            "\n",
            "                 Food              Juice Dessert  \n",
            "0    Traditional food        Fresh Juice   Maybe  \n",
            "1        Western Food  Carbonated drinks     Yes  \n",
            "2        Western Food        Fresh Juice   Maybe  \n",
            "3    Traditional food        Fresh Juice   Maybe  \n",
            "4    Traditional food        Fresh Juice   Maybe  \n",
            "..                ...                ...     ...  \n",
            "283      Western Food        Fresh Juice     Yes  \n",
            "284  Traditional food        Fresh Juice     Yes  \n",
            "285  Traditional food        Fresh Juice     Yes  \n",
            "286  Traditional food        Fresh Juice     Yes  \n",
            "287  Traditional food        Fresh Juice      No  \n",
            "\n",
            "[288 rows x 8 columns]\n"
          ]
        }
      ]
    },
    {
      "cell_type": "code",
      "source": [
        "print(X)"
      ],
      "metadata": {
        "colab": {
          "base_uri": "https://localhost:8080/"
        },
        "id": "yGyyLEfasS6e",
        "outputId": "6e146514-c2da-475e-8eb1-bcb9d97c889b"
      },
      "execution_count": 15,
      "outputs": [
        {
          "output_type": "stream",
          "name": "stdout",
          "text": [
            "[['Male' 'Indian' 24 'Traditional food' 'Fresh Juice']\n",
            " ['Female' 'Indian' 22 'Western Food' 'Carbonated drinks']\n",
            " ['Male' 'Indian' 31 'Western Food' 'Fresh Juice']\n",
            " ...\n",
            " ['Male' 'Indian' 25 'Traditional food' 'Fresh Juice']\n",
            " ['Male' 'Indian' 27 'Traditional food' 'Fresh Juice']\n",
            " ['Male' 'Indian' 27 'Traditional food' 'Fresh Juice']]\n"
          ]
        }
      ]
    },
    {
      "cell_type": "code",
      "source": [
        "print(Y)"
      ],
      "metadata": {
        "colab": {
          "base_uri": "https://localhost:8080/"
        },
        "id": "tS-ofLqFsq_b",
        "outputId": "7546d53c-b380-41f6-f3d5-fdafb5eded77"
      },
      "execution_count": 16,
      "outputs": [
        {
          "output_type": "stream",
          "name": "stdout",
          "text": [
            "['Maybe' 'Yes' 'Maybe' 'Maybe' 'Maybe' 'Yes' 'Yes' 'Yes' 'Yes' 'Yes' 'No'\n",
            " 'Yes' 'Maybe' 'Yes' 'Yes' 'Maybe' 'No' 'No' 'Maybe' 'Maybe' 'Maybe'\n",
            " 'Maybe' 'Maybe' 'Yes' 'Yes' 'Yes' 'Maybe' 'Yes' 'Yes' 'Yes' 'Maybe' 'Yes'\n",
            " 'Maybe' 'Maybe' 'Maybe' 'Yes' 'Maybe' 'Yes' 'Maybe' 'Maybe' 'Maybe' 'Yes'\n",
            " 'Yes' 'Yes' 'Yes' 'Yes' 'Yes' 'Yes' 'Maybe' 'Yes' 'Maybe' 'No' 'No' 'Yes'\n",
            " 'Maybe' 'Yes' 'Yes' 'Maybe' 'No' 'Maybe' 'Maybe' 'Maybe' 'Yes' 'Maybe'\n",
            " 'Maybe' 'Yes' 'Yes' 'Maybe' 'Yes' 'Yes' 'No' 'Maybe' 'Yes' 'Yes' 'Yes'\n",
            " 'Yes' 'Maybe' 'Yes' 'Yes' 'No' 'No' 'Yes' 'Yes' 'No' 'Maybe' 'Maybe'\n",
            " 'Yes' 'No' 'Yes' 'Maybe' 'No' 'Yes' 'No' 'Maybe' 'No' 'Yes' 'Maybe'\n",
            " 'Maybe' 'Yes' 'Maybe' 'Maybe' 'Yes' 'Yes' 'Maybe' 'Yes' 'Yes' 'Yes' 'Yes'\n",
            " 'Yes' 'Yes' 'Yes' 'No' 'No' 'No' 'Yes' 'Yes' 'Maybe' 'Yes' 'No' 'Yes'\n",
            " 'Maybe' 'No' 'No' 'Maybe' 'Yes' 'Maybe' 'Maybe' 'Maybe' 'Maybe' 'Maybe'\n",
            " 'Maybe' 'No' 'No' 'Maybe' 'Yes' 'Maybe' 'Maybe' 'Maybe' 'No' 'No' 'Maybe'\n",
            " 'Yes' 'Yes' 'No' 'Yes' 'Maybe' 'Yes' 'Maybe' 'Maybe' 'Maybe' 'Yes' 'Yes'\n",
            " 'Yes' 'Yes' 'Yes' 'Maybe' 'Yes' 'Maybe' 'Maybe' 'Maybe' 'Maybe' 'No'\n",
            " 'Maybe' 'Maybe' 'Maybe' 'Maybe' 'Yes' 'No' 'Yes' 'Yes' 'No' 'Yes' 'Maybe'\n",
            " 'Yes' 'No' 'Maybe' 'Maybe' 'Yes' 'Maybe' 'No' 'Maybe' 'Maybe' 'Maybe'\n",
            " 'Maybe' 'Yes' 'Maybe' 'Yes' 'Maybe' 'Yes' 'No' 'Yes' 'Yes' 'Maybe'\n",
            " 'Maybe' 'Maybe' 'No' 'No' 'No' 'Maybe' 'Maybe' 'Maybe' 'Yes' 'No' 'No'\n",
            " 'Maybe' 'Maybe' 'Maybe' 'No' 'Maybe' 'No' 'No' 'Yes' 'No' 'Maybe' 'Maybe'\n",
            " 'Maybe' 'Maybe' 'No' 'Maybe' 'Yes' 'Maybe' 'No' 'Maybe' 'Maybe' 'Yes'\n",
            " 'Yes' 'Maybe' 'Yes' 'No' 'Maybe' 'Maybe' 'Maybe' 'Yes' 'Maybe' 'No'\n",
            " 'Maybe' 'Yes' 'Yes' 'Maybe' 'Maybe' 'Yes' 'Yes' 'Maybe' 'Yes' 'Maybe'\n",
            " 'Yes' 'No' 'No' 'Maybe' 'Yes' 'Maybe' 'Yes' 'Maybe' 'Maybe' 'No' 'Maybe'\n",
            " 'Yes' 'Yes' 'No' 'Yes' 'No' 'Maybe' 'Yes' 'No' 'Yes' 'Yes' 'Yes' 'Maybe'\n",
            " 'Yes' 'Maybe' 'Yes' 'Maybe' 'Maybe' 'Maybe' 'Maybe' 'Maybe' 'Yes' 'Yes'\n",
            " 'Yes' 'Maybe' 'Maybe' 'Maybe' 'No' 'Yes' 'Yes' 'Yes' 'Yes' 'No']\n"
          ]
        }
      ]
    },
    {
      "cell_type": "code",
      "source": [
        "from sklearn.impute import SimpleImputer\n",
        "imputer = SimpleImputer(missing_values=np.nan, strategy='most_frequent')\n",
        "imputer.fit(X[:, 1:2])\n",
        "X[:, 1:2] = imputer.transform(X[:, 1:2])"
      ],
      "metadata": {
        "id": "Q1HTjGmtFElK"
      },
      "execution_count": 25,
      "outputs": []
    },
    {
      "cell_type": "code",
      "source": [
        "print(X)"
      ],
      "metadata": {
        "colab": {
          "base_uri": "https://localhost:8080/"
        },
        "id": "nA26xWadIMJL",
        "outputId": "587bc8e8-e059-4fe0-ff96-65eb4cd74b32"
      },
      "execution_count": 28,
      "outputs": [
        {
          "output_type": "stream",
          "name": "stdout",
          "text": [
            "[['Male' 'Indian' 24 'Traditional food' 'Fresh Juice']\n",
            " ['Female' 'Indian' 22 'Western Food' 'Carbonated drinks']\n",
            " ['Male' 'Indian' 31 'Western Food' 'Fresh Juice']\n",
            " ...\n",
            " ['Male' 'Indian' 25 'Traditional food' 'Fresh Juice']\n",
            " ['Male' 'Indian' 27 'Traditional food' 'Fresh Juice']\n",
            " ['Male' 'Indian' 27 'Traditional food' 'Fresh Juice']]\n"
          ]
        }
      ]
    },
    {
      "cell_type": "code",
      "source": [
        "from sklearn.compose import ColumnTransformer\n",
        "from sklearn.preprocessing import OneHotEncoder\n",
        "ct1 = ColumnTransformer(transformers=[('encoder', OneHotEncoder(sparse=False), [0,1,3,4])], remainder='passthrough')\n",
        "X = np.array(ct1.fit_transform(X))"
      ],
      "metadata": {
        "id": "GLbMHLUTVlky"
      },
      "execution_count": 29,
      "outputs": []
    },
    {
      "cell_type": "code",
      "source": [
        "print(X[0])"
      ],
      "metadata": {
        "colab": {
          "base_uri": "https://localhost:8080/"
        },
        "id": "Wh1dakVZV2sz",
        "outputId": "7cfa2082-ec9f-4ebd-c5ed-dab19872c53a"
      },
      "execution_count": 36,
      "outputs": [
        {
          "output_type": "stream",
          "name": "stdout",
          "text": [
            "[0.0 1.0 0.0 0.0 0.0 0.0 1.0 0.0 0.0 0.0 0.0 0.0 0.0 0.0 0.0 0.0 0.0 0.0\n",
            " 0.0 0.0 0.0 0.0 0.0 0.0 0.0 0.0 0.0 0.0 0.0 0.0 1.0 0.0 0.0 1.0 24]\n"
          ]
        }
      ]
    },
    {
      "cell_type": "code",
      "source": [
        "from sklearn.preprocessing import LabelEncoder\n",
        "le = LabelEncoder()\n",
        "Y = le.fit_transform(Y)"
      ],
      "metadata": {
        "id": "A-9gGSP-Z3Lo"
      },
      "execution_count": 32,
      "outputs": []
    },
    {
      "cell_type": "code",
      "source": [
        "print(Y)"
      ],
      "metadata": {
        "colab": {
          "base_uri": "https://localhost:8080/"
        },
        "id": "S1ivGD8oZ82_",
        "outputId": "3bfd0526-3551-435b-8caa-cd389434d531"
      },
      "execution_count": 33,
      "outputs": [
        {
          "output_type": "stream",
          "name": "stdout",
          "text": [
            "[0 2 0 0 0 2 2 2 2 2 1 2 0 2 2 0 1 1 0 0 0 0 0 2 2 2 0 2 2 2 0 2 0 0 0 2 0\n",
            " 2 0 0 0 2 2 2 2 2 2 2 0 2 0 1 1 2 0 2 2 0 1 0 0 0 2 0 0 2 2 0 2 2 1 0 2 2\n",
            " 2 2 0 2 2 1 1 2 2 1 0 0 2 1 2 0 1 2 1 0 1 2 0 0 2 0 0 2 2 0 2 2 2 2 2 2 2\n",
            " 1 1 1 2 2 0 2 1 2 0 1 1 0 2 0 0 0 0 0 0 1 1 0 2 0 0 0 1 1 0 2 2 1 2 0 2 0\n",
            " 0 0 2 2 2 2 2 0 2 0 0 0 0 1 0 0 0 0 2 1 2 2 1 2 0 2 1 0 0 2 0 1 0 0 0 0 2\n",
            " 0 2 0 2 1 2 2 0 0 0 1 1 1 0 0 0 2 1 1 0 0 0 1 0 1 1 2 1 0 0 0 0 1 0 2 0 1\n",
            " 0 0 2 2 0 2 1 0 0 0 2 0 1 0 2 2 0 0 2 2 0 2 0 2 1 1 0 2 0 2 0 0 1 0 2 2 1\n",
            " 2 1 0 2 1 2 2 2 0 2 0 2 0 0 0 0 0 2 2 2 0 0 0 1 2 2 2 2 1]\n"
          ]
        }
      ]
    },
    {
      "cell_type": "code",
      "source": [
        "from sklearn.model_selection import train_test_split\n",
        "X_train, X_test, Y_train, Y_test = train_test_split(X, Y, test_size = 0.2, random_state = 1)"
      ],
      "metadata": {
        "id": "p_mKuzVVaICB"
      },
      "execution_count": 44,
      "outputs": []
    },
    {
      "cell_type": "code",
      "source": [
        "from sklearn.preprocessing import StandardScaler\n",
        "sc = StandardScaler()\n",
        "X_train[:,-1 :] = sc.fit_transform(X_train[:,-1 :])\n",
        "X_test[:, -1:] = sc.transform(X_test[:, -1:])"
      ],
      "metadata": {
        "id": "pmohS3oHaPXR"
      },
      "execution_count": 46,
      "outputs": []
    },
    {
      "cell_type": "code",
      "source": [
        "print(X_train)"
      ],
      "metadata": {
        "colab": {
          "base_uri": "https://localhost:8080/"
        },
        "id": "M3S2g6wVb4Gq",
        "outputId": "e2e8c874-393f-4bfa-bef8-73d69293a8a4"
      },
      "execution_count": 47,
      "outputs": [
        {
          "output_type": "stream",
          "name": "stdout",
          "text": [
            "[[1.0 0.0 0.0 ... 0.0 1.0 -0.556415510492697]\n",
            " [0.0 1.0 0.0 ... 0.0 1.0 -1.9525126095471002]\n",
            " [1.0 0.0 0.0 ... 0.0 1.0 1.1189010083725868]\n",
            " ...\n",
            " [1.0 0.0 0.0 ... 0.0 1.0 -1.021781210177498]\n",
            " [0.0 1.0 0.0 ... 0.0 1.0 -1.114854350114458]\n",
            " [0.0 1.0 0.0 ... 0.0 1.0 -0.556415510492697]]\n"
          ]
        }
      ]
    }
  ]
}