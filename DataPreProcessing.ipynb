{
  "nbformat": 4,
  "nbformat_minor": 0,
  "metadata": {
    "colab": {
      "name": "DataPreProcessing.ipynb",
      "provenance": [],
      "authorship_tag": "ABX9TyOIpN5kvuXivAuGEpbQyEEs",
      "include_colab_link": true
    },
    "kernelspec": {
      "name": "python3",
      "display_name": "Python 3"
    },
    "language_info": {
      "name": "python"
    }
  },
  "cells": [
    {
      "cell_type": "markdown",
      "metadata": {
        "id": "view-in-github",
        "colab_type": "text"
      },
      "source": [
        "<a href=\"https://colab.research.google.com/github/SandumiJay/FoodPreference/blob/main/DataPreProcessing.ipynb\" target=\"_parent\"><img src=\"https://colab.research.google.com/assets/colab-badge.svg\" alt=\"Open In Colab\"/></a>"
      ]
    },
    {
      "cell_type": "code",
      "execution_count": 11,
      "metadata": {
        "id": "4EZLm6gjp4FA"
      },
      "outputs": [],
      "source": [
        "import numpy as np\n",
        "import matplotlib.pyplot as plt\n",
        "import pandas as pd"
      ]
    },
    {
      "cell_type": "code",
      "source": [
        "dataset = pd.read_csv('Food_Preference.csv')\n",
        "X = dataset.iloc[:, 2:-1].values\n",
        "Y = dataset.iloc[:, -1].values"
      ],
      "metadata": {
        "id": "2RuNjzcIrgjT"
      },
      "execution_count": 15,
      "outputs": []
    },
    {
      "cell_type": "code",
      "source": [
        "print(dataset)"
      ],
      "metadata": {
        "colab": {
          "base_uri": "https://localhost:8080/"
        },
        "id": "Gf0I3ohDr3YW",
        "outputId": "2cbce99b-37e1-4b0f-b4cd-c18a6acba8f4"
      },
      "execution_count": 13,
      "outputs": [
        {
          "output_type": "stream",
          "name": "stdout",
          "text": [
            "                        Timestamp Participant_ID  Gender Nationality  Age  \\\n",
            "0     2019/05/07 2:59:13 PM GMT+8         FPS001    Male      Indian   24   \n",
            "1     2019/05/07 2:59:45 PM GMT+8         FPS002  Female      Indian   22   \n",
            "2     2019/05/07 3:00:05 PM GMT+8         FPS003    Male      Indian   31   \n",
            "3     2019/05/07 3:00:11 PM GMT+8         FPS004  Female      Indian   25   \n",
            "4     2019/05/07 3:02:50 PM GMT+8         FPS005    Male      Indian   27   \n",
            "..                            ...            ...     ...         ...  ...   \n",
            "283   2019/05/10 9:24:00 AM GMT+8         FPS284    Male      Indian   27   \n",
            "284   2019/05/10 9:32:54 AM GMT+8         FPS285    Male      Indian   24   \n",
            "285  2019/05/10 12:09:17 PM GMT+8         FPS286    Male      Indian   25   \n",
            "286  2019/05/10 12:52:17 PM GMT+8         FPS287    Male      Indian   27   \n",
            "287  2019/05/10 12:55:42 PM GMT+8         FPS288    Male      Indian   27   \n",
            "\n",
            "                 Food              Juice Dessert  \n",
            "0    Traditional food        Fresh Juice   Maybe  \n",
            "1        Western Food  Carbonated drinks     Yes  \n",
            "2        Western Food        Fresh Juice   Maybe  \n",
            "3    Traditional food        Fresh Juice   Maybe  \n",
            "4    Traditional food        Fresh Juice   Maybe  \n",
            "..                ...                ...     ...  \n",
            "283      Western Food        Fresh Juice     Yes  \n",
            "284  Traditional food        Fresh Juice     Yes  \n",
            "285  Traditional food        Fresh Juice     Yes  \n",
            "286  Traditional food        Fresh Juice     Yes  \n",
            "287  Traditional food        Fresh Juice      No  \n",
            "\n",
            "[288 rows x 8 columns]\n"
          ]
        }
      ]
    },
    {
      "cell_type": "code",
      "source": [
        "print(X)"
      ],
      "metadata": {
        "colab": {
          "base_uri": "https://localhost:8080/"
        },
        "id": "yGyyLEfasS6e",
        "outputId": "b74e1af2-1333-44ae-c481-cab1f3b32b48"
      },
      "execution_count": 17,
      "outputs": [
        {
          "output_type": "stream",
          "name": "stdout",
          "text": [
            "[['Male' 'Indian' 24 'Traditional food' 'Fresh Juice']\n",
            " ['Female' 'Indian' 22 'Western Food' 'Carbonated drinks']\n",
            " ['Male' 'Indian' 31 'Western Food' 'Fresh Juice']\n",
            " ...\n",
            " ['Male' 'Indian' 25 'Traditional food' 'Fresh Juice']\n",
            " ['Male' 'Indian' 27 'Traditional food' 'Fresh Juice']\n",
            " ['Male' 'Indian' 27 'Traditional food' 'Fresh Juice']]\n"
          ]
        }
      ]
    },
    {
      "cell_type": "code",
      "source": [
        "print(Y)"
      ],
      "metadata": {
        "colab": {
          "base_uri": "https://localhost:8080/"
        },
        "id": "tS-ofLqFsq_b",
        "outputId": "82ca3b70-3df5-433e-8be6-d4cfd40831a6"
      },
      "execution_count": 18,
      "outputs": [
        {
          "output_type": "stream",
          "name": "stdout",
          "text": [
            "['Maybe' 'Yes' 'Maybe' 'Maybe' 'Maybe' 'Yes' 'Yes' 'Yes' 'Yes' 'Yes' 'No'\n",
            " 'Yes' 'Maybe' 'Yes' 'Yes' 'Maybe' 'No' 'No' 'Maybe' 'Maybe' 'Maybe'\n",
            " 'Maybe' 'Maybe' 'Yes' 'Yes' 'Yes' 'Maybe' 'Yes' 'Yes' 'Yes' 'Maybe' 'Yes'\n",
            " 'Maybe' 'Maybe' 'Maybe' 'Yes' 'Maybe' 'Yes' 'Maybe' 'Maybe' 'Maybe' 'Yes'\n",
            " 'Yes' 'Yes' 'Yes' 'Yes' 'Yes' 'Yes' 'Maybe' 'Yes' 'Maybe' 'No' 'No' 'Yes'\n",
            " 'Maybe' 'Yes' 'Yes' 'Maybe' 'No' 'Maybe' 'Maybe' 'Maybe' 'Yes' 'Maybe'\n",
            " 'Maybe' 'Yes' 'Yes' 'Maybe' 'Yes' 'Yes' 'No' 'Maybe' 'Yes' 'Yes' 'Yes'\n",
            " 'Yes' 'Maybe' 'Yes' 'Yes' 'No' 'No' 'Yes' 'Yes' 'No' 'Maybe' 'Maybe'\n",
            " 'Yes' 'No' 'Yes' 'Maybe' 'No' 'Yes' 'No' 'Maybe' 'No' 'Yes' 'Maybe'\n",
            " 'Maybe' 'Yes' 'Maybe' 'Maybe' 'Yes' 'Yes' 'Maybe' 'Yes' 'Yes' 'Yes' 'Yes'\n",
            " 'Yes' 'Yes' 'Yes' 'No' 'No' 'No' 'Yes' 'Yes' 'Maybe' 'Yes' 'No' 'Yes'\n",
            " 'Maybe' 'No' 'No' 'Maybe' 'Yes' 'Maybe' 'Maybe' 'Maybe' 'Maybe' 'Maybe'\n",
            " 'Maybe' 'No' 'No' 'Maybe' 'Yes' 'Maybe' 'Maybe' 'Maybe' 'No' 'No' 'Maybe'\n",
            " 'Yes' 'Yes' 'No' 'Yes' 'Maybe' 'Yes' 'Maybe' 'Maybe' 'Maybe' 'Yes' 'Yes'\n",
            " 'Yes' 'Yes' 'Yes' 'Maybe' 'Yes' 'Maybe' 'Maybe' 'Maybe' 'Maybe' 'No'\n",
            " 'Maybe' 'Maybe' 'Maybe' 'Maybe' 'Yes' 'No' 'Yes' 'Yes' 'No' 'Yes' 'Maybe'\n",
            " 'Yes' 'No' 'Maybe' 'Maybe' 'Yes' 'Maybe' 'No' 'Maybe' 'Maybe' 'Maybe'\n",
            " 'Maybe' 'Yes' 'Maybe' 'Yes' 'Maybe' 'Yes' 'No' 'Yes' 'Yes' 'Maybe'\n",
            " 'Maybe' 'Maybe' 'No' 'No' 'No' 'Maybe' 'Maybe' 'Maybe' 'Yes' 'No' 'No'\n",
            " 'Maybe' 'Maybe' 'Maybe' 'No' 'Maybe' 'No' 'No' 'Yes' 'No' 'Maybe' 'Maybe'\n",
            " 'Maybe' 'Maybe' 'No' 'Maybe' 'Yes' 'Maybe' 'No' 'Maybe' 'Maybe' 'Yes'\n",
            " 'Yes' 'Maybe' 'Yes' 'No' 'Maybe' 'Maybe' 'Maybe' 'Yes' 'Maybe' 'No'\n",
            " 'Maybe' 'Yes' 'Yes' 'Maybe' 'Maybe' 'Yes' 'Yes' 'Maybe' 'Yes' 'Maybe'\n",
            " 'Yes' 'No' 'No' 'Maybe' 'Yes' 'Maybe' 'Yes' 'Maybe' 'Maybe' 'No' 'Maybe'\n",
            " 'Yes' 'Yes' 'No' 'Yes' 'No' 'Maybe' 'Yes' 'No' 'Yes' 'Yes' 'Yes' 'Maybe'\n",
            " 'Yes' 'Maybe' 'Yes' 'Maybe' 'Maybe' 'Maybe' 'Maybe' 'Maybe' 'Yes' 'Yes'\n",
            " 'Yes' 'Maybe' 'Maybe' 'Maybe' 'No' 'Yes' 'Yes' 'Yes' 'Yes' 'No']\n"
          ]
        }
      ]
    }
  ]
}